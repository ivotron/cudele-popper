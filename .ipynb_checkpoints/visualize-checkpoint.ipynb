{
 "cells": [
  {
   "cell_type": "markdown",
   "metadata": {},
   "source": [
    "# Namespace Affinity\n",
    "\n",
    "Here we are trying to show that the performance of a local namespace is better than if the namespace is remote."
   ]
  },
  {
   "cell_type": "code",
   "execution_count": 1,
   "metadata": {
    "collapsed": true
   },
   "outputs": [],
   "source": [
    "import pandas as pd\n",
    "import numpy as np\n",
    "import matplotlib\n",
    "import matplotlib.pyplot as plt\n",
    "import json\n",
    "import glob as glob\n",
    "%matplotlib inline"
   ]
  },
  {
   "cell_type": "code",
   "execution_count": 5,
   "metadata": {
    "collapsed": false
   },
   "outputs": [
    {
     "name": "stdout",
     "output_type": "stream",
     "text": [
      "[277.979051, 278.426467, 284.821252] [270.07863, 279.146904, 270.032395]\n"
     ]
    },
    {
     "data": {
      "image/png": "[encoded data removed]",
      "text/plain": [
       "<matplotlib.figure.Figure at 0x7f57551834d0>"
      ]
     },
     "metadata": {},
     "output_type": "display_data"
    }
   ],
   "source": [
    "def to_seconds(timestamp):\n",
    "    ts = timestamp.split(':')\n",
    "    return float(float(ts[0])*60*60 + float(ts[1])*60 + float(ts[2]))\n",
    "\n",
    "def deltas(files):\n",
    "    r = []\n",
    "    for f in files:\n",
    "        with open(f) as data_file:    \n",
    "            data = json.load(data_file)\n",
    "            r.append(to_seconds(data['delta']))\n",
    "    return r\n",
    "\n",
    "mds0 = deltas(glob.glob('creates/results/mdtest-issdm-12*'))\n",
    "mds1 = deltas(glob.glob('creates/results/mdtest-issdm-15*'))\n",
    "mds2 = deltas(glob.glob('creates/results/mdtest-issdm-18*'))\n",
    "\n",
    "fig, ax = plt.subplots()\n",
    "ax.bar([0.5, 2.5, 4.5],\n",
    "       [np.mean(mds0), np.mean(mds1), np.mean(mds2)],\n",
    "       yerr=[np.std(mds0), np.std(mds1), np.std(mds2)],\n",
    "       color='blue', ecolor='black', capsize=5)\n",
    "\n",
    "print mds0, mds1"
   ]
  },
  {
   "cell_type": "code",
   "execution_count": 7,
   "metadata": {
    "collapsed": false
   },
   "outputs": [
    {
     "name": "stdout",
     "output_type": "stream",
     "text": [
      "[364.713, 364.009, 355.611] [375.409, 363.279, 375.7]\n"
     ]
    },
    {
     "data": {
      "image/png": "[encoded data removed]",
      "text/plain": [
       "<matplotlib.figure.Figure at 0x7f575e446e50>"
      ]
     },
     "metadata": {},
     "output_type": "display_data"
    }
   ],
   "source": [
    "def throughput(files):\n",
    "    r = []\n",
    "    for f in files:\n",
    "        with open(f) as data_file:    \n",
    "            data = json.load(data_file)\n",
    "            for line in data['stdout_lines']:\n",
    "                if \"File creation\" in line:\n",
    "                    mean = line.split()[5]\n",
    "            r.append(float(mean))\n",
    "    return r\n",
    "\n",
    "mds0 = throughput(glob.glob('creates/results/mdtest-issdm-12*'))\n",
    "mds1 = throughput(glob.glob('creates/results/mdtest-issdm-15*'))\n",
    "mds2 = throughput(glob.glob('creates/results/mdtest-issdm-18*'))\n",
    "\n",
    "fig, ax = plt.subplots()\n",
    "ax.bar([0.5, 2.5, 4.5],\n",
    "       [np.mean(mds0), np.mean(mds1), np.mean(mds2)],\n",
    "       yerr=[np.std(mds0), np.std(mds1), np.std(mds2)],\n",
    "       color='blue', ecolor='black', capsize=5)\n",
    "\n",
    "print mds0, mds1"
   ]
  },
  {
   "cell_type": "code",
   "execution_count": null,
   "metadata": {
    "collapsed": true
   },
   "outputs": [],
   "source": []
  }
 ],
 "metadata": {
  "kernelspec": {
   "display_name": "Python 2",
   "language": "python",
   "name": "python2"
  },
  "language_info": {
   "codemirror_mode": {
    "name": "ipython",
    "version": 2
   },
   "file_extension": ".py",
   "mimetype": "text/x-python",
   "name": "python",
   "nbconvert_exporter": "python",
   "pygments_lexer": "ipython2",
   "version": "2.7.12"
  }
 },
 "nbformat": 4,
 "nbformat_minor": 0
}
